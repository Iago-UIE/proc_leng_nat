{
 "cells": [
  {
   "cell_type": "markdown",
   "id": "080cade5",
   "metadata": {},
   "source": [
    "# Regular Expressions Exercises\n",
    "\n",
    "**Do not** use any AI help in solving it. "
   ]
  },
  {
   "cell_type": "markdown",
   "id": "1a55b260",
   "metadata": {},
   "source": [
    "### Exercise 0 (Example Solution)\n",
    "Find all occurrences of the word 'Python' (case-sensitive) in a given text."
   ]
  },
  {
   "cell_type": "code",
   "execution_count": 2,
   "id": "daccef60",
   "metadata": {},
   "outputs": [
    {
     "name": "stdout",
     "output_type": "stream",
     "text": [
      "Matches found: ['Python', 'Python']\n"
     ]
    }
   ],
   "source": [
    "import re\n",
    "text = 'I love Python because Python is amazing.'\n",
    "pattern = r'Python'\n",
    "matches = re.findall(pattern, text)\n",
    "print('Matches found:', matches)  # Expected output: ['Python', 'Python']"
   ]
  },
  {
   "cell_type": "markdown",
   "id": "414a4d0c",
   "metadata": {},
   "source": [
    "### Exercise 1\n",
    "Find all occurrences of the word 'Python' (case-sensitive) in a given text."
   ]
  },
  {
   "cell_type": "code",
   "execution_count": 4,
   "id": "20ef5cea",
   "metadata": {},
   "outputs": [
    {
     "name": "stdout",
     "output_type": "stream",
     "text": [
      "Matches found: ['Python', 'Python']\n"
     ]
    }
   ],
   "source": [
    "text = 'I love Python because Python is amazing.'\n",
    "pattern = r'Python'\n",
    "matches = re.findall(pattern, text)\n",
    "print('Matches found:', matches)  # Expected output: ['Python', 'Python']\n"
   ]
  },
  {
   "cell_type": "markdown",
   "id": "ba238748",
   "metadata": {},
   "source": [
    "### Exercise 2\n",
    "Find all sequences of digits in a text."
   ]
  },
  {
   "cell_type": "code",
   "execution_count": 5,
   "id": "bbed1a1c",
   "metadata": {},
   "outputs": [
    {
     "name": "stdout",
     "output_type": "stream",
     "text": [
      "Matches found: ['I', 'l', 'o', 'v', 'e', 'P', 'y', 't', 'h', 'o', 'n', 'b', 'e', 'c', 'a', 'u', 's', 'e', 'P', 'y', 't', 'h', 'o', 'n', 'i', 's', 'a', 'm', 'a', 'z', 'i', 'n', 'g']\n"
     ]
    }
   ],
   "source": [
    "# Your solution here\n",
    "text = 'I love Python because Python is amazing.'\n",
    "pattern = r'[A-Za-z]'\n",
    "matches = re.findall(pattern, text)\n",
    "print('Matches found:', matches)  # Expected output: ['Python', 'Python']\n",
    "\n"
   ]
  },
  {
   "cell_type": "markdown",
   "id": "4be8c3c0",
   "metadata": {},
   "source": [
    "### Exercise 3\n",
    "Extract all words that start with a capital letter."
   ]
  },
  {
   "cell_type": "code",
   "execution_count": 6,
   "id": "8f17e6d5",
   "metadata": {},
   "outputs": [
    {
     "name": "stdout",
     "output_type": "stream",
     "text": [
      "Matches found: ['I', 'P', 'P']\n"
     ]
    }
   ],
   "source": [
    "# Your solution here\n",
    "# Your solution here\n",
    "text = 'I love Python because Python is amazing.'\n",
    "pattern = r'[A-Z]'\n",
    "matches = re.findall(pattern, text)\n",
    "print('Matches found:', matches)  # Expected output: ['Python', 'Python']\n"
   ]
  },
  {
   "cell_type": "markdown",
   "id": "23eaa564",
   "metadata": {},
   "source": [
    "### Exercise 4\n",
    "Match all valid email addresses."
   ]
  },
  {
   "cell_type": "code",
   "execution_count": 8,
   "id": "65011967",
   "metadata": {},
   "outputs": [
    {
     "name": "stdout",
     "output_type": "stream",
     "text": [
      "Matches found: ['example.email@domain.com', 'support@service.org']\n"
     ]
    }
   ],
   "source": [
    "import re\n",
    "\n",
    "text = 'Contact me at example.email@domain.com or support@service.org for more info.'\n",
    "pattern = r'[a-zA-Z0-9._%+-]+@[a-zA-Z0-9.-]+\\.[a-zA-Z]{2,}'\n",
    "matches = re.findall(pattern, text)\n",
    "print('Matches found:', matches)  # Expected output: ['example.email@domain.com', 'support@service.org']\n",
    "\n"
   ]
  },
  {
   "cell_type": "markdown",
   "id": "4dd92f4c",
   "metadata": {},
   "source": [
    "### Exercise 5\n",
    "Find all words that contain at least one digit."
   ]
  },
  {
   "cell_type": "code",
   "execution_count": 16,
   "id": "6b954be1",
   "metadata": {},
   "outputs": [
    {
     "name": "stdout",
     "output_type": "stream",
     "text": [
      "Matches found: ['a223', '12', 'h12u']\n"
     ]
    }
   ],
   "source": [
    "import re\n",
    "\n",
    "text = 'a223 12 asljd ih12uu'\n",
    "pattern = r'[a-zA-Z]?[0-9.-]+[a-zA-Z]?'\n",
    "matches = re.findall(pattern, text)\n",
    "\n",
    "print('Matches found:', matches)  \n",
    "\n"
   ]
  },
  {
   "cell_type": "markdown",
   "id": "e6b0495f",
   "metadata": {},
   "source": [
    "### Exercise 6\n",
    "Replace all instances of 'colour' with 'color'."
   ]
  },
  {
   "cell_type": "code",
   "execution_count": null,
   "id": "f18b5e0b",
   "metadata": {},
   "outputs": [
    {
     "name": "stdout",
     "output_type": "stream",
     "text": [
      "New text: color color and color\n"
     ]
    }
   ],
   "source": [
    "# Your solution here\n",
    "text = 'colour colour and colour'\n",
    "pattern = r'colour'\n",
    "replace = 'color'\n",
    "new_text = re.sub(pattern, replace, text)\n",
    "print('New text:', new_text) \n",
    "\n"
   ]
  },
  {
   "cell_type": "markdown",
   "id": "1dec5414",
   "metadata": {},
   "source": [
    "### Exercise 7\n",
    "Extract all words that are exactly 5 letters long."
   ]
  },
  {
   "cell_type": "code",
   "execution_count": null,
   "id": "a8e56f29",
   "metadata": {},
   "outputs": [
    {
     "name": "stdout",
     "output_type": "stream",
     "text": [
      "Matches found: ['quick', 'brown', 'jumps']\n"
     ]
    }
   ],
   "source": [
    "# Your solution here\n",
    "#Extract all words that are exACTLY 5 characters long\n",
    "text = 'The quick brown fox jumps over the lazy dog.'\n",
    "pattern = r'\\b\\w{5}\\b'\n",
    "matches = re.findall(pattern, text)\n",
    "print('Matches found:', matches)\n"
   ]
  },
  {
   "cell_type": "markdown",
   "id": "e8dab707",
   "metadata": {},
   "source": [
    "### Exercise 8\n",
    "Find all dates in the format DD/MM/YYYY or DD-MM-YYYY."
   ]
  },
  {
   "cell_type": "code",
   "execution_count": 20,
   "id": "acb9d89a",
   "metadata": {},
   "outputs": [
    {
     "name": "stdout",
     "output_type": "stream",
     "text": [
      "Matches found: ['18/05/2021', '17-05-2021']\n"
     ]
    }
   ],
   "source": [
    "# Your solution here\n",
    "text = 'Today\\'s date is 18/05/2021. Yesterday was 17-05-2021.'\n",
    "pattern = r'\\b\\d{2}[/-]\\d{2}[/-]\\d{4}\\b'\n",
    "matches = re.findall(pattern, text)\n",
    "print('Matches found:', matches)\n",
    "\n"
   ]
  },
  {
   "cell_type": "markdown",
   "id": "11000484",
   "metadata": {},
   "source": [
    "### Exercise 9\n",
    "Extract all hashtags from a tweet."
   ]
  },
  {
   "cell_type": "code",
   "execution_count": null,
   "id": "7c69bd3c",
   "metadata": {},
   "outputs": [
    {
     "name": "stdout",
     "output_type": "stream",
     "text": [
      "Hashtags found: ['python', 'fun']\n"
     ]
    }
   ],
   "source": [
    "# Your solution here\n",
    "tweet = 'hi #python is #fun'\n",
    "def extract_hashtags(tweet):\n",
    "    pattern = r'#([A-Za-z0-9]+)\\b'\n",
    "    return re.findall(pattern, tweet)\n",
    "print('Hashtags found:', extract_hashtags(tweet))\n",
    "\n"
   ]
  },
  {
   "cell_type": "markdown",
   "id": "6be1253f",
   "metadata": {},
   "source": [
    "### Exercise 10\n",
    "Match all words that do not contain vowels."
   ]
  },
  {
   "cell_type": "code",
   "execution_count": 58,
   "id": "b7e7fb20",
   "metadata": {},
   "outputs": [
    {
     "name": "stdout",
     "output_type": "stream",
     "text": [
      "Matches found: [' hhhh sdf wrt ']\n"
     ]
    }
   ],
   "source": [
    "# Your solution here\n",
    "text = 'iweydif hhhh sdf wrt aaak'\n",
    "pattern = r'\\b[^aeiou]+\\b'\n",
    "\n",
    "matches = re.findall(pattern, text)\n",
    "\n",
    "print('Matches found:', matches)"
   ]
  },
  {
   "cell_type": "markdown",
   "id": "86209e2f",
   "metadata": {},
   "source": [
    "### Exercise 11\n",
    "Find all words that start with 'pre' and are at least 6 characters long."
   ]
  },
  {
   "cell_type": "code",
   "execution_count": 32,
   "id": "b8397027",
   "metadata": {},
   "outputs": [
    {
     "name": "stdout",
     "output_type": "stream",
     "text": [
      "Matches found: []\n"
     ]
    }
   ],
   "source": [
    "# Your solution here\n",
    "text = 'prehjk pre jhg'\n",
    "pattern = r'([pre]+[A-Za-z0-9]+\\b){6,50}'\n",
    "\n",
    "matches = re.findall(pattern, text)\n",
    "\n",
    "print('Matches found:', matches)"
   ]
  },
  {
   "cell_type": "markdown",
   "id": "583eea14",
   "metadata": {},
   "source": [
    "### Exercise 12\n",
    "Validate a password with at least one uppercase, one lowercase, one digit, and at least 8 characters."
   ]
  },
  {
   "cell_type": "code",
   "execution_count": 46,
   "id": "f34cc26d",
   "metadata": {},
   "outputs": [
    {
     "name": "stdout",
     "output_type": "stream",
     "text": [
      "Matches found: ['Password123', 'Password1234', 'Password12345', 'Password123456', 'Password1234567']\n"
     ]
    }
   ],
   "source": [
    "import re\n",
    "\n",
    "text = '123 a Password123 Password1234 Password12345 Password123456 Password1234567'\n",
    "pattern = r'(?=.*[A-Z])(?=.*\\d)[A-Za-z\\d]{8,50}'\n",
    "\n",
    "matches = re.findall(pattern, text)\n",
    "\n",
    "print('Matches found:', matches)\n"
   ]
  },
  {
   "cell_type": "markdown",
   "id": "97538535",
   "metadata": {},
   "source": [
    "### Exercise 13\n",
    "Find all repeated words in a text (e.g., 'the the')."
   ]
  },
  {
   "cell_type": "code",
   "execution_count": 47,
   "id": "df995e03",
   "metadata": {},
   "outputs": [
    {
     "name": "stdout",
     "output_type": "stream",
     "text": [
      "Matches found: [('the', ' the'), ('aa', ' aa')]\n"
     ]
    }
   ],
   "source": [
    "# Your solution here\n",
    "text = 'the the aa aa kk'\n",
    "\n",
    "pattern = \"\\\\b(\\\\w+)(\\\\s+\\\\1\\\\b)+\"\n",
    "matches = re.findall(pattern, text)\n",
    "\n",
    "print('Matches found:', matches)"
   ]
  },
  {
   "cell_type": "markdown",
   "id": "48795d4b",
   "metadata": {},
   "source": [
    "### Exercise 14\n",
    "Extract all domain names from URLs."
   ]
  },
  {
   "cell_type": "code",
   "execution_count": 51,
   "id": "d9100f6b",
   "metadata": {},
   "outputs": [
    {
     "name": "stdout",
     "output_type": "stream",
     "text": [
      "Matches found: ['http://google.com', 'facebook.com']\n"
     ]
    }
   ],
   "source": [
    "# Your solution here\n",
    "text = 'http://google.com hh facebook.com'\n",
    "\n",
    "\n",
    "pattern = \"[http]*[s]?[:]*[/]*[/]*[a-zA-Z0-9.]+[.][a-zA-Z]+\"\n",
    "matches = re.findall(pattern, text)\n",
    "\n",
    "print('Matches found:', matches)"
   ]
  },
  {
   "cell_type": "markdown",
   "id": "e0df8900",
   "metadata": {},
   "source": [
    "### Exercise 15\n",
    "Validate a properly formatted IPv4 address."
   ]
  },
  {
   "cell_type": "code",
   "execution_count": null,
   "id": "3d10c972",
   "metadata": {},
   "outputs": [
    {
     "name": "stdout",
     "output_type": "stream",
     "text": [
      "Matches found: []\n"
     ]
    }
   ],
   "source": [
    "# Your solution here\n",
    "\n",
    "text = '91.116.235.18'\n",
    "\n",
    "pattern = \"^((25[0-5]|(2[0-4]|1\\d|[1-9]|)\\d)\\.?\\b){4}$\"\n",
    "\n",
    "pattern = \"^([012]?(0-9)?[0-9]\\.){3}\"\n",
    "matches = re.findall(pattern, text)\n",
    "\n",
    "print('Matches found:', matches)"
   ]
  },
  {
   "cell_type": "markdown",
   "id": "5ee9de3c",
   "metadata": {},
   "source": [
    "### Exercise 16\n",
    "Match all valid Twitter handles.\n"
   ]
  },
  {
   "cell_type": "code",
   "execution_count": null,
   "id": "067273f2",
   "metadata": {},
   "outputs": [
    {
     "name": "stdout",
     "output_type": "stream",
     "text": [
      "Matches found: ['pepito']\n"
     ]
    }
   ],
   "source": [
    "# Your solution here\n",
    "text = 'hi @pepito is @josé'\n",
    "pattern = r'@([A-Za-z0-9_]+)\\b'\n",
    "matches = re.findall(pattern, text)\n",
    "print('Matches found:', matches)\n"
   ]
  },
  {
   "cell_type": "markdown",
   "id": "a52f75df",
   "metadata": {},
   "source": [
    "### Exercise 17\n",
    "Find all numbers written in words (e.g., 'one', 'two', 'three')."
   ]
  },
  {
   "cell_type": "code",
   "execution_count": 1,
   "id": "e7921979",
   "metadata": {},
   "outputs": [
    {
     "name": "stdout",
     "output_type": "stream",
     "text": [
      "['one', 'two', 'three']\n"
     ]
    }
   ],
   "source": [
    "# Your solution here\n",
    "import re\n",
    "\n",
    "# Define a regex pattern using a non-capturing group (?:)\n",
    "# \\b ensures we match whole words only.\n",
    "pattern = r\"\\b(?:zero|one|two|three|four|five|six|seven|eight|nine|ten)\\b\"\n",
    "\n",
    "text = \"I have one apple, two bananas, and three oranges.\"\n",
    "\n",
    "# Find all occurrences (case-insensitive)\n",
    "matches = re.findall(pattern, text, flags=re.IGNORECASE)\n",
    "print(matches)\n"
   ]
  },
  {
   "cell_type": "markdown",
   "id": "8ef40dca",
   "metadata": {},
   "source": [
    "### Exercise 18\n",
    "Find all words that contain double letters."
   ]
  },
  {
   "cell_type": "code",
   "execution_count": 4,
   "id": "98f58929",
   "metadata": {},
   "outputs": [
    {
     "name": "stdout",
     "output_type": "stream",
     "text": [
      "['t', 'o', 'e']\n"
     ]
    }
   ],
   "source": [
    "# Your solution here\n",
    "import re\n",
    "\n",
    "# Regular expression to match words with double letters\n",
    "pattern = r\"\\b\\w*(\\w)\\1\\w*\\b\"\n",
    "\n",
    "text = \"I have a little book with a coffee stain on it.\"\n",
    "\n",
    "# Find all matching words\n",
    "matches = re.findall(pattern, text)\n",
    "\n",
    "# Print results\n",
    "print(matches)\n"
   ]
  },
  {
   "cell_type": "markdown",
   "id": "927b93e2",
   "metadata": {},
   "source": [
    "### Exercise 19\n",
    "Extract quoted text from a sentence."
   ]
  },
  {
   "cell_type": "code",
   "execution_count": 5,
   "id": "3ff0911d",
   "metadata": {},
   "outputs": [
    {
     "name": "stdout",
     "output_type": "stream",
     "text": [
      "['Hello, world!', 'Hi there!']\n"
     ]
    }
   ],
   "source": [
    "# Your solution here\n",
    "import re\n",
    "\n",
    "# Example sentence with quoted text\n",
    "sentence = 'He said, \"Hello, world!\" and she replied, \"Hi there!\"'\n",
    "\n",
    "# Regular expression to capture text between double quotes using non-greedy matching\n",
    "pattern = r'\"(.*?)\"'\n",
    "\n",
    "# Extract all occurrences of quoted text\n",
    "quoted_text = re.findall(pattern, sentence)\n",
    "\n",
    "print(quoted_text)"
   ]
  },
  {
   "cell_type": "markdown",
   "id": "9d8c7695",
   "metadata": {},
   "source": [
    "### Exercise 20\n",
    "Match sentences ending with a question mark."
   ]
  },
  {
   "cell_type": "code",
   "execution_count": 6,
   "id": "4435c171",
   "metadata": {},
   "outputs": [
    {
     "name": "stdout",
     "output_type": "stream",
     "text": [
      "['Hello, world!', 'Hi there!']\n"
     ]
    }
   ],
   "source": [
    "# Your solution here\n",
    "#Expect not making\n",
    "\n",
    "import re\n",
    "\n",
    "# Example sentence with quoted text\n",
    "sentence = 'He said, \"Hello, world!\" and she replied, \"Hi there!\"'\n",
    "\n",
    "# Regular expression to capture text between double quotes using non-greedy matching\n",
    "pattern = r'\"(.*?)\"'\n",
    "\n",
    "# Extract all occurrences of quoted text\n",
    "quoted_text = re.findall(pattern, sentence)\n",
    "\n",
    "print(quoted_text)"
   ]
  }
 ],
 "metadata": {
  "kernelspec": {
   "display_name": "Python 3",
   "language": "python",
   "name": "python3"
  },
  "language_info": {
   "codemirror_mode": {
    "name": "ipython",
    "version": 3
   },
   "file_extension": ".py",
   "mimetype": "text/x-python",
   "name": "python",
   "nbconvert_exporter": "python",
   "pygments_lexer": "ipython3",
   "version": "3.11.8"
  }
 },
 "nbformat": 4,
 "nbformat_minor": 5
}
