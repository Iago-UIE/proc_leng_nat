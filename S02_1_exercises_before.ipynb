[InternetShortcut]
URL=file:///c%3A/Users/iagoc/Downloads/reg_expr/S02_1_exercises_before.ipynb
