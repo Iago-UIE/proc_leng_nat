{
 "cells": [
  {
   "cell_type": "markdown",
   "metadata": {},
   "source": [
    "# Exercises start\n",
    "\n",
    "Please solve this exercises. Do it **WITHOUT ANY AI HELP**."
   ]
  },
  {
   "cell_type": "code",
   "execution_count": 1,
   "metadata": {},
   "outputs": [
    {
     "name": "stdout",
     "output_type": "stream",
     "text": [
      "['cats', 'babies', 'wolves', 'boxes', 'children', 'men', 'mice', 'knives', 'bushes']\n"
     ]
    }
   ],
   "source": [
    "# Exercise 1: Make Plurals\n",
    "# Write a program to generate plural forms of English nouns from a given list of singular nouns.\n",
    "# Simplification rules:\n",
    "# 1. Add 's' to most words (e.g., \"cat\" -> \"cats\").\n",
    "# 2. If the word ends with 'y' and is preceded by a consonant, replace 'y' with 'ies' (e.g., \"baby\" -> \"babies\").\n",
    "# 3. If the word ends with 'f' or 'fe', replace it with 'ves' (e.g., \"wolf\" -> \"wolves\").\n",
    "# 4. Add 'es' to words ending in 's', 'x', 'z', 'ch', or 'sh' (e.g., \"box\" -> \"boxes\").\n",
    "# 5. For irregular nouns, handle exceptions (e.g., \"child\" -> \"children\", \"man\" -> \"men\").\n",
    "\n",
    "\n",
    "def pluralize(noun):\n",
    "    irregulars = {\n",
    "        \"child\": \"children\",\n",
    "        \"man\": \"men\",\n",
    "        \"mouse\": \"mice\",\n",
    "        \"knife\": \"knives\"\n",
    "    }\n",
    "    \n",
    "    if noun in irregulars:\n",
    "        return irregulars[noun]\n",
    "    \n",
    "    if noun.endswith(\"y\") and noun[-2] not in \"aeiou\":\n",
    "        return noun[:-1] + \"ies\"\n",
    "    \n",
    "    if noun.endswith(\"f\"):\n",
    "        return noun[:-1] + \"ves\"\n",
    "    \n",
    "    if noun.endswith(\"fe\"):\n",
    "        return noun[:-2] + \"ves\"\n",
    "    \n",
    "    if noun.endswith((\"s\", \"x\", \"z\", \"ch\", \"sh\")):\n",
    "        return noun + \"es\"\n",
    "    \n",
    "    return noun + \"s\"\n",
    "\n",
    "nouns = [\"cat\", \"baby\", \"wolf\", \"box\", \"child\", \"man\", \"mouse\", \"knife\", \"bush\"]\n",
    "pluralized_nouns = [pluralize(noun) for noun in nouns]\n",
    "print(pluralized_nouns)\n"
   ]
  },
  {
   "cell_type": "code",
   "execution_count": 2,
   "metadata": {},
   "outputs": [
    {
     "name": "stdout",
     "output_type": "stream",
     "text": [
      "['support@example.com', 'sales@example.org', 'admin123@example.net']\n"
     ]
    }
   ],
   "source": [
    "# Exercise 2: Extract Email Addresses\n",
    "import re\n",
    "\n",
    "def extract_emails(text):\n",
    "    pattern = r'\\b[A-Za-z0-9._%+-]+@[A-Za-z0-9.-]+\\.[A-Z|a-z]{2,}\\b'\n",
    "    return re.findall(pattern, text)\n",
    "\n",
    "text = \"Please contact us at support@example.com, sales@example.org, or admin123@example.net for assistance.\"\n",
    "emails = extract_emails(text)\n",
    "print(emails)\n"
   ]
  },
  {
   "cell_type": "code",
   "execution_count": 3,
   "metadata": {},
   "outputs": [
    {
     "name": "stdout",
     "output_type": "stream",
     "text": [
      "['support@example.com', 'sales@example.org', 'admin123@example.net']\n",
      "['sunset', 'beach', '123abc', 'double', 'invalid', 'tags']\n"
     ]
    }
   ],
   "source": [
    "\n",
    "# Exercise 3: Extract Hashtags\n",
    "def extract_emails(text):\n",
    "    pattern = r'\\b[A-Za-z0-9._%+-]+@[A-Za-z0-9.-]+\\.[A-Z|a-z]{2,}\\b'\n",
    "    return re.findall(pattern, text)\n",
    "\n",
    "def extract_hashtags(tweet):\n",
    "    pattern = r'#([A-Za-z0-9]+)\\b'\n",
    "    return re.findall(pattern, tweet)\n",
    "\n",
    "\n",
    "text = \"Please contact us at support@example.com, sales@example.org, or admin123@example.net for assistance.\"\n",
    "tweet = \"Loving the #sunset at the #beach! But #123abc and ##double are #invalid#tags.\"\n",
    "\n",
    "emails = extract_emails(text)\n",
    "hashtags = extract_hashtags(tweet)\n",
    "\n",
    "print(emails)\n",
    "print(hashtags)\n"
   ]
  }
 ],
 "metadata": {
  "kernelspec": {
   "display_name": "Python 3",
   "language": "python",
   "name": "python3"
  },
  "language_info": {
   "codemirror_mode": {
    "name": "ipython",
    "version": 3
   },
   "file_extension": ".py",
   "mimetype": "text/x-python",
   "name": "python",
   "nbconvert_exporter": "python",
   "pygments_lexer": "ipython3",
   "version": "3.11.8"
  }
 },
 "nbformat": 4,
 "nbformat_minor": 2
}
