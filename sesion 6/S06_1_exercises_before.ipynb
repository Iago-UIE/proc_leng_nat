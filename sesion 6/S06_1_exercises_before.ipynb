{
 "cells": [
  {
   "cell_type": "markdown",
   "metadata": {},
   "source": [
    "# Exercises before\n",
    "\n",
    "Create a corpus with phrases and annotate it with positive or negative. Build a very simple sentiment analysis with regex and use corpus to calculate sentiment (positive or negative). Count how many True Positives (TP), False Positives (FP), True Negatives (TN), and False Negatives (FN) you have. Tweet the corpus or the regexp to have non-zero variables. Make the calculations of Precission, Recall, and F1 following the class materials.   "
   ]
  },
  {
   "cell_type": "code",
   "execution_count": 7,
   "metadata": {},
   "outputs": [
    {
     "name": "stderr",
     "output_type": "stream",
     "text": [
      "[nltk_data] Downloading package punkt to\n",
      "[nltk_data]     C:\\Users\\iagoc\\AppData\\Roaming\\nltk_data...\n",
      "[nltk_data]   Unzipping tokenizers\\punkt.zip.\n",
      "[nltk_data] Downloading package stopwords to\n",
      "[nltk_data]     C:\\Users\\iagoc\\AppData\\Roaming\\nltk_data...\n",
      "[nltk_data]   Package stopwords is already up-to-date!\n"
     ]
    },
    {
     "data": {
      "text/plain": [
       "True"
      ]
     },
     "execution_count": 7,
     "metadata": {},
     "output_type": "execute_result"
    }
   ],
   "source": [
    "import nltk\n",
    "from nltk.tokenize import word_tokenize\n",
    "from nltk.corpus import stopwords\n",
    "from collections import Counter\n",
    "\n",
    "# Descargar recursos necesarios (si es la primera vez que usas NLTK)\n",
    "nltk.download('punkt')\n",
    "nltk.download('stopwords')"
   ]
  },
  {
   "cell_type": "code",
   "execution_count": null,
   "metadata": {},
   "outputs": [
    {
     "name": "stdout",
     "output_type": "stream",
     "text": [
      "[['the', 'film', 'is', 'lovely'], ['the', 'film', 'is', 'not', 'lovely'], ['the', 'characters', 'are', 'lovely'], ['i', 'hate', 'the', 'music'], ['i', 'dont', 'hate', 'the', 'ambient'], ['i', 'hate', 'this', 'type', 'of', 'films']]\n"
     ]
    }
   ],
   "source": [
    "#Create a corpus with phrases\n",
    "corpus = {\n",
    "    \n",
    "    \"The film is lovely\": \"positive\",\n",
    "    \"The story is lovely\": \"positive\",\n",
    "    \"The characters are lovely\": \"positive\",\n",
    "    \"I hate the music\": \"negative\",\n",
    "    \"I hate the ambient\": \"negative\",\n",
    "    \"I hate this type of films\": \"negative\"\n",
    "}\n",
    "\n",
    "#Sentiment analysis using regex\n",
    "\n",
    "# Step 2: Preprocess the text (tokenization and lowercase)\n",
    "def tokenize(text):\n",
    "    return text.lower().replace('.', '').split()\n",
    "\n",
    "tokenized_corpus = [tokenize(doc) for doc in corpus]\n",
    "print(tokenized_corpus)\n",
    "# 2. Filtrar stopwords y signos de puntuación\n",
    "stop_words = set(stopwords.words('spanish'))\n",
    "tokenized_corpus = [word for word in tokens if word.isalnum() and word not in stop_words]\n",
    "\n",
    "#Use corpus to calculate Sentiment\n",
    "for sentence in tokenized_corpus:\n",
    "    if corpus[sentence] == \"positive\":\n",
    "        for word in sentence:\n",
    "            \n",
    "#Count true positives, false positives, true negatives and false negatives\n",
    "\n",
    "#Tweet the corpus to have non-zero variables.\n",
    "\n",
    "#Make the calculations of precision, recall and F1"
   ]
  }
 ],
 "metadata": {
  "kernelspec": {
   "display_name": "Python 3",
   "language": "python",
   "name": "python3"
  },
  "language_info": {
   "codemirror_mode": {
    "name": "ipython",
    "version": 3
   },
   "file_extension": ".py",
   "mimetype": "text/x-python",
   "name": "python",
   "nbconvert_exporter": "python",
   "pygments_lexer": "ipython3",
   "version": "3.12.0"
  }
 },
 "nbformat": 4,
 "nbformat_minor": 2
}
